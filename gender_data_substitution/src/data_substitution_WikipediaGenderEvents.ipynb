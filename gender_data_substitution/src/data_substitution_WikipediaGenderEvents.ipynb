{
  "cells": [
    {
      "cell_type": "markdown",
      "metadata": {
        "id": "n9EsTnIW8VOr"
      },
      "source": [
        "#Setup"
      ]
    },
    {
      "cell_type": "markdown",
      "source": [
        "**Mount on drive** (if run on colab)"
      ],
      "metadata": {
        "id": "KKc7mXIj8rLO"
      }
    },
    {
      "cell_type": "code",
      "source": [
        "from google.colab import drive\n",
        "drive.mount('/content/drive', force_remount= True)\n",
        "Folder_name = 'GenderBiasFewShotText'\n",
        "assert Folder_name is not None, \"[1] Enter the folder name\"\n",
        "import sys \n",
        "sys.path.append('content/drive/MyDrive/{}'.format(Folder_name))\n",
        "%cd drive/MyDrive/$Folder_name/\n",
        "\n",
        "\n"
      ],
      "metadata": {
        "colab": {
          "base_uri": "https://localhost:8080/"
        },
        "id": "Vk2q4xCx8tx4",
        "outputId": "398938a8-c1ec-4d7b-8bfa-c267b1d53c81"
      },
      "execution_count": 1,
      "outputs": [
        {
          "output_type": "stream",
          "name": "stdout",
          "text": [
            "Mounted at /content/drive\n",
            "/content/drive/MyDrive/GenderBiasFewShotText\n"
          ]
        }
      ]
    },
    {
      "cell_type": "code",
      "source": [
        "#execute this cell only if you run on colab\n",
        "BASE_PATH = 'gender_data_substitution/src'\n",
        "%cd {BASE_PATH}"
      ],
      "metadata": {
        "colab": {
          "base_uri": "https://localhost:8080/"
        },
        "id": "XErGJ9Vx9FN5",
        "outputId": "8c613834-bddd-4645-c9d9-9a0164c19ff6"
      },
      "execution_count": 2,
      "outputs": [
        {
          "output_type": "stream",
          "name": "stdout",
          "text": [
            "/content/drive/MyDrive/GenderBiasFewShotText/gender_data_substitution/src\n"
          ]
        }
      ]
    },
    {
      "cell_type": "markdown",
      "source": [
        "**Install**"
      ],
      "metadata": {
        "id": "yZqw2b268ynR"
      }
    },
    {
      "cell_type": "code",
      "source": [
        "!pip install spacy\n",
        "!pip install c"
      ],
      "metadata": {
        "id": "HVH--tIS80mW",
        "colab": {
          "base_uri": "https://localhost:8080/"
        },
        "outputId": "59af655b-bfe5-4624-ee3e-a53c0fdc19e6"
      },
      "execution_count": 3,
      "outputs": [
        {
          "output_type": "stream",
          "name": "stdout",
          "text": [
            "Requirement already satisfied: spacy in /usr/local/lib/python3.7/dist-packages (2.2.4)\n",
            "Requirement already satisfied: murmurhash<1.1.0,>=0.28.0 in /usr/local/lib/python3.7/dist-packages (from spacy) (1.0.6)\n",
            "Requirement already satisfied: setuptools in /usr/local/lib/python3.7/dist-packages (from spacy) (57.4.0)\n",
            "Requirement already satisfied: cymem<2.1.0,>=2.0.2 in /usr/local/lib/python3.7/dist-packages (from spacy) (2.0.6)\n",
            "Requirement already satisfied: srsly<1.1.0,>=1.0.2 in /usr/local/lib/python3.7/dist-packages (from spacy) (1.0.5)\n",
            "Requirement already satisfied: catalogue<1.1.0,>=0.0.7 in /usr/local/lib/python3.7/dist-packages (from spacy) (1.0.0)\n",
            "Requirement already satisfied: blis<0.5.0,>=0.4.0 in /usr/local/lib/python3.7/dist-packages (from spacy) (0.4.1)\n",
            "Requirement already satisfied: thinc==7.4.0 in /usr/local/lib/python3.7/dist-packages (from spacy) (7.4.0)\n",
            "Requirement already satisfied: requests<3.0.0,>=2.13.0 in /usr/local/lib/python3.7/dist-packages (from spacy) (2.23.0)\n",
            "Requirement already satisfied: numpy>=1.15.0 in /usr/local/lib/python3.7/dist-packages (from spacy) (1.21.5)\n",
            "Requirement already satisfied: plac<1.2.0,>=0.9.6 in /usr/local/lib/python3.7/dist-packages (from spacy) (1.1.3)\n",
            "Requirement already satisfied: wasabi<1.1.0,>=0.4.0 in /usr/local/lib/python3.7/dist-packages (from spacy) (0.9.1)\n",
            "Requirement already satisfied: preshed<3.1.0,>=3.0.2 in /usr/local/lib/python3.7/dist-packages (from spacy) (3.0.6)\n",
            "Requirement already satisfied: tqdm<5.0.0,>=4.38.0 in /usr/local/lib/python3.7/dist-packages (from spacy) (4.64.0)\n",
            "Requirement already satisfied: importlib-metadata>=0.20 in /usr/local/lib/python3.7/dist-packages (from catalogue<1.1.0,>=0.0.7->spacy) (4.11.3)\n",
            "Requirement already satisfied: typing-extensions>=3.6.4 in /usr/local/lib/python3.7/dist-packages (from importlib-metadata>=0.20->catalogue<1.1.0,>=0.0.7->spacy) (4.1.1)\n",
            "Requirement already satisfied: zipp>=0.5 in /usr/local/lib/python3.7/dist-packages (from importlib-metadata>=0.20->catalogue<1.1.0,>=0.0.7->spacy) (3.8.0)\n",
            "Requirement already satisfied: certifi>=2017.4.17 in /usr/local/lib/python3.7/dist-packages (from requests<3.0.0,>=2.13.0->spacy) (2021.10.8)\n",
            "Requirement already satisfied: chardet<4,>=3.0.2 in /usr/local/lib/python3.7/dist-packages (from requests<3.0.0,>=2.13.0->spacy) (3.0.4)\n",
            "Requirement already satisfied: urllib3!=1.25.0,!=1.25.1,<1.26,>=1.21.1 in /usr/local/lib/python3.7/dist-packages (from requests<3.0.0,>=2.13.0->spacy) (1.24.3)\n",
            "Requirement already satisfied: idna<3,>=2.5 in /usr/local/lib/python3.7/dist-packages (from requests<3.0.0,>=2.13.0->spacy) (2.10)\n",
            "Requirement already satisfied: c in /usr/local/lib/python3.7/dist-packages (0.0.1)\n"
          ]
        }
      ]
    },
    {
      "cell_type": "markdown",
      "source": [
        "**Imports**"
      ],
      "metadata": {
        "id": "ngIX2F0r83Cb"
      }
    },
    {
      "cell_type": "code",
      "execution_count": 4,
      "metadata": {
        "id": "8VnAGEoq8VOt"
      },
      "outputs": [],
      "source": [
        "import pandas as pd\n",
        "import pickle\n",
        "import re\n",
        "import os\n",
        "import numpy as np\n",
        "import csv\n",
        "import json\n",
        "from sklearn.model_selection import train_test_split\n",
        "import itertools\n",
        "import spacy\n",
        "from operator import itemgetter\n"
      ]
    },
    {
      "cell_type": "markdown",
      "source": [
        "#Dataset"
      ],
      "metadata": {
        "id": "RAf0GcOn9BED"
      }
    },
    {
      "cell_type": "markdown",
      "source": [
        "**remove duplicates from the data and drop unnecessary columns**"
      ],
      "metadata": {
        "id": "FRgkuOEF97FF"
      }
    },
    {
      "cell_type": "code",
      "execution_count": 5,
      "metadata": {
        "colab": {
          "base_uri": "https://localhost:8080/",
          "height": 238
        },
        "id": "Gp0KuRil8VOu",
        "outputId": "d70b2466-80da-4dcf-af00-cbe9ca6ec9ae"
      },
      "outputs": [
        {
          "output_type": "stream",
          "name": "stdout",
          "text": [
            "Length of data before dropping duplicates: 581\n",
            "Length of data after dropping duplicates: 555\n"
          ]
        },
        {
          "output_type": "execute_result",
          "data": {
            "text/plain": [
              "              Name Gender Occupation  \\\n",
              "0   Dolester Miles      F      chefs   \n",
              "1  Nancy Silverton      F      chefs   \n",
              "2   Beau MacMillan      M      chefs   \n",
              "3  Anthony Amoroso      M      chefs   \n",
              "4     Debra Ponzek      F      chefs   \n",
              "\n",
              "                                                Text  \n",
              "0  In 1982, Frank Stitt opened Highlands Bar and ...  \n",
              "1  After Silverton returned to Los Angeles in 198...  \n",
              "2  MacMillan moved to Los Angeles to become sous ...  \n",
              "3  In 2003, Amoroso relocated to Las Vegas, Nevad...  \n",
              "4  Ponzek married fellow chef Bobby Flay in May 1...  "
            ],
            "text/html": [
              "\n",
              "  <div id=\"df-d11a05c1-1ef8-46c8-b08e-47ad6accee4e\">\n",
              "    <div class=\"colab-df-container\">\n",
              "      <div>\n",
              "<style scoped>\n",
              "    .dataframe tbody tr th:only-of-type {\n",
              "        vertical-align: middle;\n",
              "    }\n",
              "\n",
              "    .dataframe tbody tr th {\n",
              "        vertical-align: top;\n",
              "    }\n",
              "\n",
              "    .dataframe thead th {\n",
              "        text-align: right;\n",
              "    }\n",
              "</style>\n",
              "<table border=\"1\" class=\"dataframe\">\n",
              "  <thead>\n",
              "    <tr style=\"text-align: right;\">\n",
              "      <th></th>\n",
              "      <th>Name</th>\n",
              "      <th>Gender</th>\n",
              "      <th>Occupation</th>\n",
              "      <th>Text</th>\n",
              "    </tr>\n",
              "  </thead>\n",
              "  <tbody>\n",
              "    <tr>\n",
              "      <th>0</th>\n",
              "      <td>Dolester Miles</td>\n",
              "      <td>F</td>\n",
              "      <td>chefs</td>\n",
              "      <td>In 1982, Frank Stitt opened Highlands Bar and ...</td>\n",
              "    </tr>\n",
              "    <tr>\n",
              "      <th>1</th>\n",
              "      <td>Nancy Silverton</td>\n",
              "      <td>F</td>\n",
              "      <td>chefs</td>\n",
              "      <td>After Silverton returned to Los Angeles in 198...</td>\n",
              "    </tr>\n",
              "    <tr>\n",
              "      <th>2</th>\n",
              "      <td>Beau MacMillan</td>\n",
              "      <td>M</td>\n",
              "      <td>chefs</td>\n",
              "      <td>MacMillan moved to Los Angeles to become sous ...</td>\n",
              "    </tr>\n",
              "    <tr>\n",
              "      <th>3</th>\n",
              "      <td>Anthony Amoroso</td>\n",
              "      <td>M</td>\n",
              "      <td>chefs</td>\n",
              "      <td>In 2003, Amoroso relocated to Las Vegas, Nevad...</td>\n",
              "    </tr>\n",
              "    <tr>\n",
              "      <th>4</th>\n",
              "      <td>Debra Ponzek</td>\n",
              "      <td>F</td>\n",
              "      <td>chefs</td>\n",
              "      <td>Ponzek married fellow chef Bobby Flay in May 1...</td>\n",
              "    </tr>\n",
              "  </tbody>\n",
              "</table>\n",
              "</div>\n",
              "      <button class=\"colab-df-convert\" onclick=\"convertToInteractive('df-d11a05c1-1ef8-46c8-b08e-47ad6accee4e')\"\n",
              "              title=\"Convert this dataframe to an interactive table.\"\n",
              "              style=\"display:none;\">\n",
              "        \n",
              "  <svg xmlns=\"http://www.w3.org/2000/svg\" height=\"24px\"viewBox=\"0 0 24 24\"\n",
              "       width=\"24px\">\n",
              "    <path d=\"M0 0h24v24H0V0z\" fill=\"none\"/>\n",
              "    <path d=\"M18.56 5.44l.94 2.06.94-2.06 2.06-.94-2.06-.94-.94-2.06-.94 2.06-2.06.94zm-11 1L8.5 8.5l.94-2.06 2.06-.94-2.06-.94L8.5 2.5l-.94 2.06-2.06.94zm10 10l.94 2.06.94-2.06 2.06-.94-2.06-.94-.94-2.06-.94 2.06-2.06.94z\"/><path d=\"M17.41 7.96l-1.37-1.37c-.4-.4-.92-.59-1.43-.59-.52 0-1.04.2-1.43.59L10.3 9.45l-7.72 7.72c-.78.78-.78 2.05 0 2.83L4 21.41c.39.39.9.59 1.41.59.51 0 1.02-.2 1.41-.59l7.78-7.78 2.81-2.81c.8-.78.8-2.07 0-2.86zM5.41 20L4 18.59l7.72-7.72 1.47 1.35L5.41 20z\"/>\n",
              "  </svg>\n",
              "      </button>\n",
              "      \n",
              "  <style>\n",
              "    .colab-df-container {\n",
              "      display:flex;\n",
              "      flex-wrap:wrap;\n",
              "      gap: 12px;\n",
              "    }\n",
              "\n",
              "    .colab-df-convert {\n",
              "      background-color: #E8F0FE;\n",
              "      border: none;\n",
              "      border-radius: 50%;\n",
              "      cursor: pointer;\n",
              "      display: none;\n",
              "      fill: #1967D2;\n",
              "      height: 32px;\n",
              "      padding: 0 0 0 0;\n",
              "      width: 32px;\n",
              "    }\n",
              "\n",
              "    .colab-df-convert:hover {\n",
              "      background-color: #E2EBFA;\n",
              "      box-shadow: 0px 1px 2px rgba(60, 64, 67, 0.3), 0px 1px 3px 1px rgba(60, 64, 67, 0.15);\n",
              "      fill: #174EA6;\n",
              "    }\n",
              "\n",
              "    [theme=dark] .colab-df-convert {\n",
              "      background-color: #3B4455;\n",
              "      fill: #D2E3FC;\n",
              "    }\n",
              "\n",
              "    [theme=dark] .colab-df-convert:hover {\n",
              "      background-color: #434B5C;\n",
              "      box-shadow: 0px 1px 3px 1px rgba(0, 0, 0, 0.15);\n",
              "      filter: drop-shadow(0px 1px 2px rgba(0, 0, 0, 0.3));\n",
              "      fill: #FFFFFF;\n",
              "    }\n",
              "  </style>\n",
              "\n",
              "      <script>\n",
              "        const buttonEl =\n",
              "          document.querySelector('#df-d11a05c1-1ef8-46c8-b08e-47ad6accee4e button.colab-df-convert');\n",
              "        buttonEl.style.display =\n",
              "          google.colab.kernel.accessAllowed ? 'block' : 'none';\n",
              "\n",
              "        async function convertToInteractive(key) {\n",
              "          const element = document.querySelector('#df-d11a05c1-1ef8-46c8-b08e-47ad6accee4e');\n",
              "          const dataTable =\n",
              "            await google.colab.kernel.invokeFunction('convertToInteractive',\n",
              "                                                     [key], {});\n",
              "          if (!dataTable) return;\n",
              "\n",
              "          const docLinkHtml = 'Like what you see? Visit the ' +\n",
              "            '<a target=\"_blank\" href=https://colab.research.google.com/notebooks/data_table.ipynb>data table notebook</a>'\n",
              "            + ' to learn more about interactive tables.';\n",
              "          element.innerHTML = '';\n",
              "          dataTable['output_type'] = 'display_data';\n",
              "          await google.colab.output.renderOutput(dataTable, element);\n",
              "          const docLink = document.createElement('div');\n",
              "          docLink.innerHTML = docLinkHtml;\n",
              "          element.appendChild(docLink);\n",
              "        }\n",
              "      </script>\n",
              "    </div>\n",
              "  </div>\n",
              "  "
            ]
          },
          "metadata": {},
          "execution_count": 5
        }
      ],
      "source": [
        "data_path = '../data_utilities/'\n",
        "data=pd.read_csv(data_path+'WikipediaGenderEvents.csv')\n",
        "print(f\"Length of data before dropping duplicates: {data.shape[0]}\")\n",
        "data=data.drop(['Event', 'Keyword'], axis = 1)\n",
        "data = pd.DataFrame(data).drop_duplicates(subset=[\"Name\", \"Gender\", \"Occupation\", \"Text\"])\n",
        "print(f\"Length of data after dropping duplicates: {data.shape[0]}\")\n",
        "data.head()"
      ]
    },
    {
      "cell_type": "markdown",
      "metadata": {
        "id": "WJTntJma8VOv"
      },
      "source": [
        "# odd ratio"
      ]
    },
    {
      "cell_type": "markdown",
      "source": [
        "**check if the data is gender unbalanced**"
      ],
      "metadata": {
        "id": "KbKR3Joe-K18"
      }
    },
    {
      "cell_type": "code",
      "execution_count": 6,
      "metadata": {
        "id": "np665ao48VOv"
      },
      "outputs": [],
      "source": [
        "def odds_ratio(female_dict, male_dict, topk=1000, threshold=1):\n",
        "    #very_small_value = 0.00001\n",
        "    if len(female_dict.keys()) != len(male_dict.keys()):\n",
        "        raise Exception(\"The category for analyzing the male and female should be the same!\")\n",
        "    else:\n",
        "        odds_ratio = {}\n",
        "        total_num_female = sum(female_dict.values())\n",
        "        total_num_male = sum(male_dict.values())\n",
        "        for key in female_dict.keys():\n",
        "            male_num = male_dict[key]\n",
        "            female_num = female_dict[key]\n",
        "            non_female_num = total_num_female - female_num\n",
        "            non_male_num = total_num_male - male_num\n",
        "            if female_num >= threshold and male_num >= threshold:\n",
        "                # we only consider the events where there are at least {thresohld} occurences for both gender\n",
        "                odds_ratio[key] = round((male_num / female_num) / (non_male_num / non_female_num), 2)\n",
        "            else:\n",
        "                continue\n",
        "        return dict(sorted(odds_ratio.items(), key=itemgetter(1), reverse=True)[:topk]), dict(\n",
        "\n",
        "            sorted(odds_ratio.items(), key=itemgetter(1))[:topk])"
      ]
    },
    {
      "cell_type": "code",
      "execution_count": 7,
      "metadata": {
        "colab": {
          "base_uri": "https://localhost:8080/"
        },
        "id": "8NUVOkfb8VOw",
        "outputId": "dd0f860e-988f-4bfd-fb66-6e5e49ab41c8"
      },
      "outputs": [
        {
          "output_type": "stream",
          "name": "stdout",
          "text": [
            "female biased jobs: ['writers', 'artists', 'models']\n",
            "male biased jobs: ['musicians', 'podcasters', 'dancers', 'chefs', 'comedians']\n"
          ]
        }
      ],
      "source": [
        "categories = data['Occupation'].unique().tolist()\n",
        "counts = data.groupby(['Occupation', 'Gender']).size().unstack('Gender').reset_index()\n",
        "counts['dominant'] = np.where(counts['F']>= counts['M'], 'F', 'M')\n",
        "counts['total'] = counts['F']+counts['M']\n",
        "counts['occupation % for F']= round(counts['F']/counts['total']*100,1)\n",
        "counts['occupation % for M']= round(counts['M']/counts['total']*100,1)\n",
        "counts=counts.sort_values(by=['occupation % for F'])\n",
        "\n",
        "\n",
        "female_biased_jobs=[]\n",
        "male_biased_jobs=[]\n",
        "\n",
        "for index, row in counts.iterrows():\n",
        "    if row[\"dominant\"]=='F':\n",
        "        female_biased_jobs.append(row[\"Occupation\"])\n",
        "    else:\n",
        "        male_biased_jobs.append(row[\"Occupation\"])\n",
        "\n",
        "\n",
        "print(f\"female biased jobs: {female_biased_jobs}\")\n",
        "print(f\"male biased jobs: {male_biased_jobs}\")\n",
        "\n"
      ]
    },
    {
      "cell_type": "code",
      "execution_count": 8,
      "metadata": {
        "colab": {
          "base_uri": "https://localhost:8080/"
        },
        "id": "4Thy7XKX8VOx",
        "outputId": "fb19d546-ab41-42fe-d5a4-bf6cdda85229"
      },
      "outputs": [
        {
          "output_type": "stream",
          "name": "stdout",
          "text": [
            "Odd ratio for male dominant jobs: {'musicians': 1.25, 'podcasters': 1.2, 'dancers': 1.07, 'chefs': 1.03, 'comedians': 1.0, 'writers': 0.93, 'artists': 0.85, 'models': 0.78}\n",
            "Odd ratio for female dominant jobs: {'models': 0.78, 'artists': 0.85, 'writers': 0.93, 'comedians': 1.0, 'chefs': 1.03, 'dancers': 1.07, 'podcasters': 1.2, 'musicians': 1.25}\n"
          ]
        }
      ],
      "source": [
        "female_dict={}\n",
        "male_dict={}\n",
        "\n",
        "for index, row in counts.iterrows():\n",
        "    female_dict[row[\"Occupation\"]]=row['F']\n",
        "    male_dict[row[\"Occupation\"]]=row['M']\n",
        "    \n",
        "\n",
        "odds_m_c, odds_f_c = odds_ratio(female_dict, male_dict)\n",
        "\n",
        "print(f\"Odd ratio for male dominant jobs: {odds_m_c}\")\n",
        "print(f\"Odd ratio for female dominant jobs: {odds_f_c}\")\n",
        "\n",
        "\n"
      ]
    },
    {
      "cell_type": "markdown",
      "source": [
        "**add biased classes (jobs) for both female and male in train, valid, and test split types**"
      ],
      "metadata": {
        "id": "AqBVq0uA-bk1"
      }
    },
    {
      "cell_type": "code",
      "execution_count": 9,
      "metadata": {
        "colab": {
          "base_uri": "https://localhost:8080/"
        },
        "id": "WSbcrpS08VOx",
        "outputId": "6e52b57b-1350-480d-fc62-99f91810675e"
      },
      "outputs": [
        {
          "output_type": "stream",
          "name": "stdout",
          "text": [
            "Classes for train split: ['writers' 'chefs' 'comedians']\n",
            "Classes for valid split: ['models' 'dancers' 'musicians']\n",
            "Classes for test split: ['artists' 'podcasters']\n"
          ]
        }
      ],
      "source": [
        "#make sure to have biased jobs in train, valid, and test part\n",
        "np.random.shuffle(female_biased_jobs)\n",
        "np.random.shuffle(male_biased_jobs)\n",
        "female_occupations_split = np.array_split(female_biased_jobs, 3)\n",
        "male_occupations_split = np.array_split(male_biased_jobs, 3)\n",
        "\n",
        "train_occupations=np.concatenate((female_occupations_split[0], male_occupations_split[0]))\n",
        "valid_occupations=np.concatenate((female_occupations_split[1], male_occupations_split[1]))\n",
        "test_occupations=np.concatenate((female_occupations_split[2], male_occupations_split[2]))\n",
        "\n",
        "\n",
        "print(f\"Classes for train split: {train_occupations}\")\n",
        "print(f\"Classes for valid split: {valid_occupations}\")\n",
        "print(f\"Classes for test split: {test_occupations}\")\n",
        "\n",
        "\n"
      ]
    },
    {
      "cell_type": "markdown",
      "source": [
        "#Flipping Gender "
      ],
      "metadata": {
        "id": "e8ggae8s-f7c"
      }
    },
    {
      "cell_type": "markdown",
      "source": [
        "**In this section, the goal is to generate: gender flipped, neutral, pro-stereotype, anti-stereotype, and balanced datasets from the original dataset. For more information on how to create these datasets, please refer to the report**"
      ],
      "metadata": {
        "id": "OtMqmIFP-lwI"
      }
    },
    {
      "cell_type": "code",
      "execution_count": 10,
      "metadata": {
        "id": "91TItlJn8VOy"
      },
      "outputs": [],
      "source": [
        "nlp=spacy.load('en_core_web_sm')\n",
        "import sys\n",
        "\n",
        "from substitutor import Substitutor\n",
        "from substitutor import load_json_pairs\n",
        "\n",
        "gender_pairs = load_json_pairs(f'{data_path}/gender_pairs.json')\n",
        "neutral_pairs = load_json_pairs(f'{data_path}/neutral_pairs.json')\n",
        "full_names = json.loads(open(f'{data_path}/gender_names.json', \"rb\").readlines()[0])\n",
        "\n",
        "\n",
        "# Initialise a substitutor with a list of pairs of gendered words (and optionally names)\n",
        "substitutor = Substitutor(gender_pairs, full_names, neutral_pairs)\n",
        "# Example text which requires NER and POS information to properly invert\n",
        "def gender_flip(text):\n",
        "    flipped = substitutor.invert_text_gender(text)\n",
        "    return flipped\n",
        "\n",
        "def neutral_flip(text):\n",
        "    flipped = substitutor.invert_text_neutral(text)\n",
        "    return flipped\n",
        "\n"
      ]
    },
    {
      "cell_type": "markdown",
      "source": [
        "**Example on how to flip a text into opposite gender and gender free (neutral)text**"
      ],
      "metadata": {
        "id": "JjXbqH9D_jLP"
      }
    },
    {
      "cell_type": "code",
      "execution_count": 11,
      "metadata": {
        "colab": {
          "base_uri": "https://localhost:8080/"
        },
        "id": "mTaC6LG78VOy",
        "outputId": "7e6fcf30-c991-4968-c5f5-5173757fea15"
      },
      "outputs": [
        {
          "output_type": "stream",
          "name": "stdout",
          "text": [
            "original text: Mike is nice, Lynn and James are nice\"\n",
            "gender flipped text: Asma is nice, Kai and Jezabel are nice\"\n",
            "gender free: E3 is nice, E2 and E1 are nice\"\n"
          ]
        }
      ],
      "source": [
        "text = 'Mike is nice, Lynn and James are nice\"'\n",
        "gender_flipped = gender_flip(text)\n",
        "gender_free = neutral_flip(text)\n",
        "print(f\"original text: {text}\")\n",
        "print(f\"gender flipped text: {gender_flipped}\")\n",
        "print(f\"gender free: {gender_free}\")"
      ]
    },
    {
      "cell_type": "markdown",
      "source": [
        "**Generate the datasets**"
      ],
      "metadata": {
        "id": "4UcVOK_V_m_F"
      }
    },
    {
      "cell_type": "code",
      "execution_count": 12,
      "metadata": {
        "id": "_oAD1haL8VOz"
      },
      "outputs": [],
      "source": [
        "train=[]\n",
        "valid=[]\n",
        "test=[]\n",
        "samples=[]\n",
        "\n",
        "#gf for gender flipped\n",
        "\n",
        "gf_train=[]\n",
        "gf_valid=[]\n",
        "gf_samples=[]\n",
        "\n",
        "\n",
        "neutral_train=[]\n",
        "neutral_valid=[]\n",
        "neutral_samples=[]\n",
        "\n",
        "pro_stereo_train=[]\n",
        "pro_stereo_valid=[]\n",
        "pro_stereo_samples=[]\n",
        "\n",
        "\n",
        "anti_stereo_train=[]\n",
        "anti_stereo_valid=[]\n",
        "anti_stereo_samples=[]\n",
        "\n",
        "\n",
        "\n",
        "for index, row in data.iterrows():\n",
        "    samples.append(row['Text'])\n",
        "    sen=gender_flip(row['Text']) \n",
        "    gf_samples.append(sen)\n",
        "    sen_neutral=neutral_flip(row['Text']) \n",
        "    neutral_samples.append(sen_neutral)\n",
        "    \n",
        "    if row['Occupation'] in train_occupations:\n",
        "        train.append({'label':row['Occupation'] , 'gender':row['Gender'], 'sentence': row['Text']})\n",
        "        gf_train.append({'label':row['Occupation'], 'gender':row['Gender'],'sentence': sen})\n",
        "        neutral_train.append({'label':row['Occupation'], 'gender':row['Gender'],'sentence': sen_neutral})\n",
        "        \n",
        "        if row['Occupation'] in female_biased_jobs and row['Gender']=='F':\n",
        "            pro_stereo_train.append({'label':row['Occupation'] , 'gender':row['Gender'], 'sentence': row['Text']})\n",
        "            pro_stereo_samples.append(row['Text'])\n",
        "        \n",
        "            anti_stereo_train.append({'label':row['Occupation'] , 'gender':row['Gender'], 'sentence': sen})\n",
        "            anti_stereo_samples.append(sen)\n",
        "            \n",
        "        elif row['Occupation'] in male_biased_jobs and row['Gender']=='M':\n",
        "            pro_stereo_train.append({'label':row['Occupation'] , 'gender':row['Gender'], 'sentence': row['Text']})\n",
        "            pro_stereo_samples.append(row['Text'])\n",
        "        \n",
        "            anti_stereo_train.append({'label':row['Occupation'] , 'gender':row['Gender'], 'sentence': sen})\n",
        "            anti_stereo_samples.append(sen)\n",
        "        \n",
        "        elif row['Occupation'] in female_biased_jobs and row['Gender']=='M':\n",
        "        \n",
        "            pro_stereo_train.append({'label':row['Occupation'] , 'gender':row['Gender'], 'sentence': sen})\n",
        "            pro_stereo_samples.append(sen)\n",
        "        \n",
        "            anti_stereo_train.append({'label':row['Occupation'] , 'gender':row['Gender'], 'sentence': row['Text']})\n",
        "            anti_stereo_samples.append(row['Text'])\n",
        "        \n",
        "      \n",
        "        elif row['Occupation'] in male_biased_jobs and row['Gender']=='F':\n",
        "        \n",
        "            pro_stereo_train.append({'label':row['Occupation'] , 'gender':row['Gender'], 'sentence': sen})\n",
        "            pro_stereo_samples.append(sen)\n",
        "        \n",
        "            anti_stereo_train.append({'label':row['Occupation'] , 'gender':row['Gender'], 'sentence': row['Text']})\n",
        "            anti_stereo_samples.append(row['Text'])\n",
        "                \n",
        "            \n",
        "            \n",
        "    elif row['Occupation'] in valid_occupations:\n",
        "        valid.append({'label':row['Occupation'] , 'gender':row['Gender'], 'sentence': row['Text']})\n",
        "        gf_valid.append({'label':row['Occupation'], 'gender':row['Gender'], 'sentence':sen})\n",
        "        neutral_valid.append({'label':row['Occupation'],'gender':row['Gender'], 'sentence': sen_neutral})\n",
        "        \n",
        "        if row['Occupation'] in female_biased_jobs and row['Gender']=='F':\n",
        "            pro_stereo_valid.append({'label':row['Occupation'] , 'gender':row['Gender'], 'sentence': row['Text']})\n",
        "            pro_stereo_samples.append(row['Text'])\n",
        "        \n",
        "            anti_stereo_valid.append({'label':row['Occupation'] , 'gender':row['Gender'], 'sentence': sen})\n",
        "            anti_stereo_samples.append(sen)\n",
        "            \n",
        "        elif row['Occupation'] in male_biased_jobs and row['Gender']=='M':\n",
        "            pro_stereo_valid.append({'label':row['Occupation'] , 'gender':row['Gender'], 'sentence': row['Text']})\n",
        "            pro_stereo_samples.append(row['Text'])\n",
        "        \n",
        "            anti_stereo_valid.append({'label':row['Occupation'] , 'gender':row['Gender'], 'sentence': sen})\n",
        "            anti_stereo_samples.append(sen)\n",
        "        \n",
        "        elif row['Occupation'] in female_biased_jobs and row['Gender']=='M':\n",
        "        \n",
        "            pro_stereo_valid.append({'label':row['Occupation'] , 'gender':row['Gender'], 'sentence': sen})\n",
        "            pro_stereo_samples.append(sen)\n",
        "        \n",
        "            anti_stereo_valid.append({'label':row['Occupation'] , 'gender':row['Gender'], 'sentence': row['Text']})\n",
        "            anti_stereo_samples.append(row['Text'])\n",
        "        \n",
        "      \n",
        "        elif row['Occupation'] in male_biased_jobs and row['Gender']=='F':\n",
        "        \n",
        "            pro_stereo_valid.append({'label':row['Occupation'] , 'gender':row['Gender'], 'sentence': sen})\n",
        "            pro_stereo_samples.append(sen)\n",
        "        \n",
        "            anti_stereo_valid.append({'label':row['Occupation'] , 'gender':row['Gender'], 'sentence': row['Text']})\n",
        "            anti_stereo_samples.append(row['Text'])\n",
        "                \n",
        "        \n",
        "    else:\n",
        "        test.append({'label':row['Occupation'] , 'gender':row['Gender'], 'sentence': row['Text']})\n",
        "        if row['Occupation'] in female_biased_jobs and row['Gender']=='F':\n",
        "            pro_stereo_samples.append(row['Text'])\n",
        "            anti_stereo_samples.append(sen)\n",
        "            \n",
        "        elif row['Occupation'] in male_biased_jobs and row['Gender']=='M':\n",
        "            pro_stereo_samples.append(row['Text'])\n",
        "            anti_stereo_samples.append(sen)\n",
        "        \n",
        "        elif row['Occupation'] in female_biased_jobs and row['Gender']=='M':\n",
        "        \n",
        "            pro_stereo_samples.append(sen)\n",
        "            anti_stereo_samples.append(row['Text'])\n",
        "        \n",
        "      \n",
        "        elif row['Occupation'] in male_biased_jobs and row['Gender']=='F':\n",
        "        \n",
        "            pro_stereo_samples.append(sen)\n",
        "        \n",
        "            anti_stereo_samples.append(row['Text'])\n",
        "                \n",
        "\n",
        "\n",
        "        \n",
        "train_samples, test_samples= train_test_split(samples, shuffle=False, test_size=0.30)\n",
        "\n",
        "gf_train_samples, gf_test_samples= train_test_split(gf_samples, shuffle=False, test_size=0.30)\n",
        "\n",
        "pro_stereo_train_samples, pro_stereo_test_samples= train_test_split(pro_stereo_samples, shuffle=False, test_size=0.30)\n",
        "\n",
        "anti_stereo_train_samples, anti_stereo_test_samples= train_test_split(anti_stereo_samples, shuffle=False, test_size=0.30)\n",
        "\n",
        "neutral_train_samples, neutral_test_samples= train_test_split(neutral_samples, shuffle=False, test_size=0.30)\n",
        "\n",
        "\n",
        "\n",
        "#balanced dataset\n",
        "balanced_train = np.concatenate([train, gf_train])\n",
        "balanced_valid = np.concatenate([valid, gf_valid])\n",
        "\n",
        "\n",
        "balanced_train_samples=np.concatenate((train_samples, gf_train_samples))\n",
        "balanced_test_samples= np.concatenate((test_samples, gf_test_samples))\n",
        "    "
      ]
    },
    {
      "cell_type": "code",
      "execution_count": 14,
      "metadata": {
        "id": "t7z-nEK28VO2"
      },
      "outputs": [],
      "source": [
        "      \n",
        "#checking existing dirs\n",
        "\n",
        "output_directory = '../../data/WikipediaGenderEvents'\n",
        "\n",
        "if not os.path.exists(output_directory):  \n",
        "    os.makedirs(output_directory)\n",
        "\n",
        "\n",
        "if not os.path.exists(f'{output_directory}/original'):\n",
        "  os.makedirs(f'{output_directory}/original')\n",
        "  os.makedirs(f'{output_directory}/original/full')\n",
        "    \n",
        "if not os.path.exists(f'{output_directory}/gender-swapped'):\n",
        "  os.makedirs(f'{output_directory}/gender-swapped')\n",
        "  os.makedirs(f'{output_directory}/gender-swapped/full')\n",
        "    \n",
        "if not os.path.exists(f'{output_directory}/balanced'):\n",
        "  os.makedirs(f'{output_directory}/balanced')\n",
        "  os.makedirs(f'{output_directory}/balanced/full')\n",
        "    \n",
        "if not os.path.exists(f'{output_directory}/pro-stereotype'):\n",
        "  os.makedirs(f'{output_directory}/pro-stereotype')\n",
        "  os.makedirs(f'{output_directory}/pro-stereotype/full')\n",
        "\n",
        "if not os.path.exists(f'{output_directory}/anti-stereotype'):\n",
        "  os.makedirs(f'{output_directory}/anti-stereotype')\n",
        "  os.makedirs(f'{output_directory}/anti-stereotype/full')\n",
        "\n",
        "if not os.path.exists(f'{output_directory}/neutral'):\n",
        "  os.makedirs(f'{output_directory}/neutral')\n",
        "  os.makedirs(f'{output_directory}/neutral/full')\n",
        "\n",
        "\n",
        "\n",
        "\n",
        "    \n",
        "with open(f'{output_directory}/neutral/train.jsonl', 'w') as f:\n",
        "  for obj in neutral_train:\n",
        "    f.write(json.dumps(obj) + '\\n')\n",
        "        \n",
        "with open(f'{output_directory}/neutral/valid.jsonl', 'w') as f:\n",
        "  for obj in neutral_valid:\n",
        "    f.write(json.dumps(obj) + '\\n')\n",
        "\n",
        "with open(f'{output_directory}/neutral/test.jsonl', 'w') as f:\n",
        "  for obj in test:\n",
        "    f.write(json.dumps(obj) + '\\n')\n",
        "        \n",
        "\n",
        "with open(f'{output_directory}/neutral/full/full-train.txt','w') as f:\n",
        "  f.write('\\n'.join(neutral_train_samples))\n",
        "    \n",
        "    \n",
        "with open(f'{output_directory}/neutral/full/full-test.txt','w') as f:\n",
        "  f.write('\\n'.join(neutral_test_samples))\n",
        "    \n",
        "    \n",
        "\n",
        "\n",
        "#pro-stereo\n",
        "\n",
        "with open(f'{output_directory}/pro-stereotype/train.jsonl', 'w') as f:\n",
        "  for obj in pro_stereo_train:\n",
        "    f.write(json.dumps(obj) + '\\n')\n",
        "\n",
        "with open(f'{output_directory}/pro-stereotype/valid.jsonl', 'w') as f:\n",
        "  for obj in pro_stereo_valid:\n",
        "    f.write(json.dumps(obj) + '\\n')\n",
        "\n",
        "with open(f'{output_directory}/pro-stereotype/test.jsonl', 'w') as f:\n",
        "  for obj in test:\n",
        "    f.write(json.dumps(obj) + '\\n')\n",
        "\n",
        "              \n",
        "with open(f'{output_directory}/pro-stereotype/full/full-train.txt','w') as f:\n",
        "    f.write('\\n'.join(pro_stereo_train_samples))\n",
        " \n",
        "    \n",
        "\n",
        "with open(f'{output_directory}/pro-stereotype/full/full-test.txt','w') as f:\n",
        "    f.write('\\n'.join(pro_stereo_test_samples))\n",
        "\n",
        "\n",
        "\n",
        "#anti-stereo \n",
        "\n",
        "with open(f'{output_directory}/anti-stereotype/train.jsonl', 'w') as f:\n",
        "  for obj in anti_stereo_train:\n",
        "    f.write(json.dumps(obj) + '\\n')\n",
        "\n",
        "with open(f'{output_directory}/anti-stereotype/valid.jsonl', 'w') as f:\n",
        "  for obj in anti_stereo_valid:\n",
        "    f.write(json.dumps(obj) + '\\n')\n",
        "\n",
        "\n",
        "with open(f'{output_directory}/anti-stereotype/test.jsonl', 'w') as f:\n",
        "  for obj in test:\n",
        "    f.write(json.dumps(obj) + '\\n')\n",
        "\n",
        "\n",
        "with open(f'{output_directory}/anti-stereotype/full/full-train.txt','w') as f:\n",
        "  f.write('\\n'.join(anti_stereo_train_samples))\n",
        "\n",
        "\n",
        "with open(f'{output_directory}/anti-stereotype/full/full-test.txt','w') as f:\n",
        "  f.write('\\n'.join(anti_stereo_test_samples))\n",
        "    \n",
        "\n",
        "\n",
        "\n",
        "    \n",
        "with open(f'{output_directory}/original/train.jsonl', 'w') as f:\n",
        "  for obj in train:\n",
        "    f.write(json.dumps(obj) + '\\n')\n",
        "        \n",
        "with open(f'{output_directory}/original/valid.jsonl', 'w') as f:\n",
        "  for obj in valid:\n",
        "    f.write(json.dumps(obj) + '\\n')\n",
        "        \n",
        "with open(f'{output_directory}/original/test.jsonl', 'w') as f:\n",
        "  for obj in test:\n",
        "    f.write(json.dumps(obj) + '\\n')\n",
        "        \n",
        "with open(f'{output_directory}/original/full/full-train.txt','w') as f:\n",
        "    f.write('\\n'.join(train_samples))\n",
        "    \n",
        "    \n",
        "with open(f'{output_directory}/original/full/full-test.txt','w') as f:\n",
        "    f.write('\\n'.join(test_samples))\n",
        "    \n",
        "    \n",
        "# writing gender-swapped datasets \n",
        "\n",
        "with open(f'{output_directory}/gender-swapped/train.jsonl', 'w') as f:\n",
        "  #json.dump(gender_swapped_dataset, jsonfile)\n",
        "  for obj in gf_train:\n",
        "    f.write(json.dumps(obj) + '\\n')\n",
        "\n",
        "with open(f'{output_directory}/gender-swapped/valid.jsonl', 'w') as f:\n",
        "  #json.dump(gender_swapped_dataset, jsonfile)\n",
        "  for obj in gf_valid:\n",
        "    f.write(json.dumps(obj) + '\\n')\n",
        "\n",
        "with open(f'{output_directory}/gender-swapped/test.jsonl', 'w') as f:\n",
        "  for obj in test:\n",
        "    f.write(json.dumps(obj) + '\\n')\n",
        "\n",
        "                       \n",
        "# write full datasets  \n",
        "\n",
        "with open(f'{output_directory}/gender-swapped/full/full-train.txt','w') as f:\n",
        "  f.write('\\n'.join(gf_train_samples))\n",
        "\n",
        "with open(f'{output_directory}/gender-swapped/full/full-test.txt','w') as f:\n",
        "  f.write('\\n'.join(gf_test_samples))\n",
        " \n",
        "\n",
        "\n",
        "# writing balanceed datasets  \n",
        "        \n",
        "with open(f'{output_directory}/balanced/train.jsonl', 'w') as f:\n",
        "  for obj in balanced_train:\n",
        "    f.write(json.dumps(obj) + '\\n')\n",
        "        \n",
        "with open(f'{output_directory}/balanced/valid.jsonl', 'w') as f:\n",
        "  for obj in balanced_valid:\n",
        "    f.write(json.dumps(obj) + '\\n')\n",
        "        \n",
        "with open(f'{output_directory}/balanced/test.jsonl', 'w') as f:\n",
        "  for obj in test:\n",
        "    f.write(json.dumps(obj) + '\\n')\n",
        "    \n",
        "with open(f'{output_directory}/balanced/full/full-train.txt','w') as f:\n",
        "  f.write('\\n'.join(balanced_train_samples))\n",
        "    \n",
        "with open(f'{output_directory}/balanced/full/full-test.txt','w') as f:\n",
        "  f.write('\\n'.join(balanced_test_samples))\n",
        "\n",
        "\n"
      ]
    }
  ],
  "metadata": {
    "kernelspec": {
      "display_name": "Python 3",
      "language": "python",
      "name": "python3"
    },
    "language_info": {
      "codemirror_mode": {
        "name": "ipython",
        "version": 3
      },
      "file_extension": ".py",
      "mimetype": "text/x-python",
      "name": "python",
      "nbconvert_exporter": "python",
      "pygments_lexer": "ipython3",
      "version": "3.7.3"
    },
    "colab": {
      "name": "generate_data_Wikipedia.ipynb",
      "provenance": [],
      "collapsed_sections": []
    }
  },
  "nbformat": 4,
  "nbformat_minor": 0
}